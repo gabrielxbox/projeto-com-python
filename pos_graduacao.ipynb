{
  "nbformat": 4,
  "nbformat_minor": 0,
  "metadata": {
    "colab": {
      "name": "pos graduacao.ipynb",
      "provenance": [],
      "authorship_tag": "ABX9TyPzrjpMrIvA3/jmtVqsTpWp",
      "include_colab_link": true
    },
    "kernelspec": {
      "name": "python3",
      "display_name": "Python 3"
    }
  },
  "cells": [
    {
      "cell_type": "markdown",
      "metadata": {
        "id": "view-in-github",
        "colab_type": "text"
      },
      "source": [
        "<a href=\"https://colab.research.google.com/github/gabrielxbox/projeto-com-python/blob/master/pos_graduacao.ipynb\" target=\"_parent\"><img src=\"https://colab.research.google.com/assets/colab-badge.svg\" alt=\"Open In Colab\"/></a>"
      ]
    },
    {
      "cell_type": "code",
      "metadata": {
        "id": "K5C8AvOib4kw",
        "colab_type": "code",
        "colab": {}
      },
      "source": [
        "import matplotlib.pyplot as plt\n",
        "import numpy as np\n",
        "from numpy.linalg import svd\n",
        "import pandas as pd\n",
        "import math"
      ],
      "execution_count": null,
      "outputs": []
    },
    {
      "cell_type": "code",
      "metadata": {
        "id": "6ONPVWr5cIzW",
        "colab_type": "code",
        "colab": {}
      },
      "source": [
        "# Gera uma amostra de posto k\n",
        "def gen_rank_k(k, U, W, Vt):\n",
        " # cria uma aproximação da matriz U\n",
        "  uk = U[:,:k]\n",
        "\n",
        " # Cria uma aproximação da matriz V\n",
        " vt = Vt[:k, :]"
      ],
      "execution_count": null,
      "outputs": []
    },
    {
      "cell_type": "code",
      "metadata": {
        "id": "YrdC9p3PcfS7",
        "colab_type": "code",
        "colab": {}
      },
      "source": [
        "# Insere os k primeiros elementos de W na diagonal de uma matriz\n",
        " wk = np.diag(W[:k])\n",
        "\n",
        " # multiplica uk e wk\n",
        " temp = np.matmul(uk, wk)\n",
        "\n",
        " # multiplica o resultado por vt\n",
        " return np.matmul(temp, vt)"
      ],
      "execution_count": null,
      "outputs": []
    },
    {
      "cell_type": "code",
      "metadata": {
        "id": "CKCnTlXLckJ8",
        "colab_type": "code",
        "colab": {}
      },
      "source": [
        "def gen_ranked_k(k, U, W, Vt):\n",
        " return U[:,:k], np.diag(W[:k]), Vt[:k, :]"
      ],
      "execution_count": null,
      "outputs": []
    },
    {
      "cell_type": "code",
      "metadata": {
        "id": "tbXtP8VfctOB",
        "colab_type": "code",
        "colab": {}
      },
      "source": [
        "L = plt.imread(‘corcovado.png’)"
      ],
      "execution_count": null,
      "outputs": []
    },
    {
      "cell_type": "code",
      "metadata": {
        "id": "3G0aHtDBcuK8",
        "colab_type": "code",
        "colab": {}
      },
      "source": [
        "L.shape"
      ],
      "execution_count": null,
      "outputs": []
    },
    {
      "cell_type": "code",
      "metadata": {
        "id": "fo8m5zyic0Kc",
        "colab_type": "code",
        "colab": {}
      },
      "source": [
        "$$\\left ( 784, \\quad 960\\right )$$"
      ],
      "execution_count": null,
      "outputs": []
    },
    {
      "cell_type": "code",
      "metadata": {
        "id": "kOw_nE1Dc5AB",
        "colab_type": "code",
        "colab": {}
      },
      "source": [
        "plt.imshow(L, cmap=”gray”)"
      ],
      "execution_count": null,
      "outputs": []
    },
    {
      "cell_type": "code",
      "metadata": {
        "id": "hNFrFbmydGoM",
        "colab_type": "code",
        "colab": {}
      },
      "source": [
        "print(L)\n"
      ],
      "execution_count": null,
      "outputs": []
    },
    {
      "cell_type": "code",
      "metadata": {
        "id": "shZMh759dQyF",
        "colab_type": "code",
        "colab": {}
      },
      "source": [
        "lU, lW, lVt = svd(L, full_matrices=True)"
      ],
      "execution_count": null,
      "outputs": []
    },
    {
      "cell_type": "code",
      "metadata": {
        "id": "3M9jOXrYdwUr",
        "colab_type": "code",
        "colab": {}
      },
      "source": [
        "plt.plot(lW)"
      ],
      "execution_count": null,
      "outputs": []
    },
    {
      "cell_type": "code",
      "metadata": {
        "id": "ONzm1wQ9d2hb",
        "colab_type": "code",
        "colab": {}
      },
      "source": [
        "plt.semilogx(lW)"
      ],
      "execution_count": null,
      "outputs": []
    },
    {
      "cell_type": "code",
      "metadata": {
        "id": "yYxJFsA2d-BV",
        "colab_type": "code",
        "colab": {}
      },
      "source": [
        "print(“L: “, L.shape)\n",
        "print(“U: “, lU.shape)\n",
        "print(“W: “, lW.shape)\n",
        "print(“Vt: “, lVt.shape)"
      ],
      "execution_count": null,
      "outputs": []
    },
    {
      "cell_type": "code",
      "metadata": {
        "id": "P9UgYRJkeDgz",
        "colab_type": "code",
        "colab": {}
      },
      "source": [
        "plt.suptitle('Aproximações de posto k', fontsize=16)\n",
        "fig=plt.figure(figsize=(45, 20))\n",
        "\n",
        "rows = 3\n",
        "columns = 1"
      ],
      "execution_count": null,
      "outputs": []
    },
    {
      "cell_type": "code",
      "metadata": {
        "id": "WfKdJCKWeMGH",
        "colab_type": "code",
        "colab": {}
      },
      "source": [
        "for i in range(0, rows*columns):\n",
        " plot = fig.add_subplot(rows, columns, i+1)\n",
        " plot.set_title(“Posto %d” % (784-100*i))\n",
        " plt.imshow(gen_rank_k(784-100*1, lU, lW, lVt), cmap=’gray’,\n",
        "interpolation=None)\n",
        " ax = plt.axes\n",
        "plt.show()"
      ],
      "execution_count": null,
      "outputs": []
    },
    {
      "cell_type": "code",
      "metadata": {
        "id": "U7vL_7-seWWh",
        "colab_type": "code",
        "colab": {}
      },
      "source": [
        "fig=plt.figure(figsize=(45, 20))\n",
        "plt.suptitle(‘Aproximações de posto k’, fontsize=16)\n",
        "rows = 3\n",
        "columns = 1\n",
        "for i in range(1, rows*columns+1):\n",
        "  plot = fig.add_subplot(rows, columns, i)\n",
        " plot.set_title(“Posto %d” % (784-100*i))\n",
        " plt.imshow(gen_rank_k((784-100*i), lU, lW, lVt), cmap=’gray’, interpolation=None)\n",
        " ax = plt.axes\n",
        "plt.show()"
      ],
      "execution_count": null,
      "outputs": []
    },
    {
      "cell_type": "code",
      "metadata": {
        "id": "cUsITsO5eiSz",
        "colab_type": "code",
        "colab": {}
      },
      "source": [
        "fig=plt.figure(figsize=(45, 20))\n",
        "plt.suptitle(‘Aproximações de posto k’, fontsize=16)\n",
        "rows = 3\n",
        "columns = 1\n",
        "for i in range(1, rows*columns+1):\n",
        " plot = fig.add_subplot(rows, columns, i)\n",
        " plot.set_title(“Posto %d” % (290-90*i))\n",
        " plt.imshow(gen_rank_k(290-90*i, lU, lW, lVt), cmap=’gray’,\n",
        "interpolation=None)\n",
        " ax = plt.axes\n",
        "plt.show()"
      ],
      "execution_count": null,
      "outputs": []
    }
  ]
}