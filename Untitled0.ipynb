{
  "nbformat": 4,
  "nbformat_minor": 0,
  "metadata": {
    "colab": {
      "name": "Untitled0.ipynb",
      "provenance": [],
      "collapsed_sections": [],
      "authorship_tag": "ABX9TyPBSSUslp0IHDlT7Gpg3h6p",
      "include_colab_link": true
    },
    "kernelspec": {
      "name": "python3",
      "display_name": "Python 3"
    }
  },
  "cells": [
    {
      "cell_type": "markdown",
      "metadata": {
        "id": "view-in-github",
        "colab_type": "text"
      },
      "source": [
        "<a href=\"https://colab.research.google.com/github/gabrielxbox/projeto-com-python/blob/master/Untitled0.ipynb\" target=\"_parent\"><img src=\"https://colab.research.google.com/assets/colab-badge.svg\" alt=\"Open In Colab\"/></a>"
      ]
    },
    {
      "cell_type": "markdown",
      "metadata": {
        "id": "bU5YPtdcgRnE",
        "colab_type": "text"
      },
      "source": [
        "algoritmo de clasificação  python com sklearn\n"
      ]
    },
    {
      "cell_type": "code",
      "metadata": {
        "id": "IWwsGQohgE8l",
        "colab_type": "code",
        "colab": {}
      },
      "source": [
        "#faetures\n",
        "#pelo longo\n",
        "#perna curta\n",
        "# faz auau\n",
        "porco1 = [0,1,0]\n",
        "porco2 = [0,1,1]\n",
        "porco3 = [1,1,0]\n",
        "\n",
        "cachorro1 = [0,1,1]\n",
        "cachorro2 = [1,0,1]\n",
        "cachorro3 = [1,1,1]\n",
        "# 1 => porco, => 0 cachorro\n",
        "treino_x = [porco1, porco2, porco3, cachorro1, cachorro2, cachorro3]\n",
        "\n",
        "treino_y = [1,1,1,0,0,0] # label etiqueta"
      ],
      "execution_count": 1,
      "outputs": []
    },
    {
      "cell_type": "code",
      "metadata": {
        "id": "pgj1On3YikbI",
        "colab_type": "code",
        "colab": {
          "base_uri": "https://localhost:8080/",
          "height": 85
        },
        "outputId": "efb01517-025c-4d8a-e843-c757786e8e8e"
      },
      "source": [
        "# utilizando o sklearn\n",
        "from sklearn.svm import LinearSVC\n",
        "\n",
        "model = LinearSVC()\n",
        "model.fit(treino_x, treino_y)"
      ],
      "execution_count": 2,
      "outputs": [
        {
          "output_type": "execute_result",
          "data": {
            "text/plain": [
              "LinearSVC(C=1.0, class_weight=None, dual=True, fit_intercept=True,\n",
              "          intercept_scaling=1, loss='squared_hinge', max_iter=1000,\n",
              "          multi_class='ovr', penalty='l2', random_state=None, tol=0.0001,\n",
              "          verbose=0)"
            ]
          },
          "metadata": {
            "tags": []
          },
          "execution_count": 2
        }
      ]
    },
    {
      "cell_type": "code",
      "metadata": {
        "id": "YUwoP8JejsDJ",
        "colab_type": "code",
        "colab": {}
      },
      "source": [
        "animal_misterioso = [1,1,1]"
      ],
      "execution_count": 3,
      "outputs": []
    },
    {
      "cell_type": "code",
      "metadata": {
        "id": "sJ90y3IOjukB",
        "colab_type": "code",
        "colab": {
          "base_uri": "https://localhost:8080/",
          "height": 34
        },
        "outputId": "d8344353-24a3-4d8d-eb58-6687d9e2fc58"
      },
      "source": [
        "misterio1 = [1,1,1]\n",
        "misterio2 = [1,1,0]\n",
        "misterio3 = [0,1,1]\n",
        "\n",
        "teste_x = [misterio1, misterio2, misterio3]\n",
        "# acerto [0,1,1] 66%\n",
        "teste_y = [0,1,1]\n",
        "\n",
        "previsoes =  model.predict(teste_x)\n",
        "\n",
        "# model.predict ele espera uma lista emtao passamos uma lista so com um item\n",
        "previsoes = model.predict(teste_x)\n",
        "\n",
        "#numero de verdadeiro\n",
        "corretos = (previsoes == teste_y).sum() \n",
        "#total\n",
        "total = len(teste_x) \n",
        "\n",
        "taxa_de_acerto = corretos/total\n",
        "\n",
        "print(\"Taxa de  acerto %.2f\" % (taxa_de_acerto * 100))\n"
      ],
      "execution_count": 17,
      "outputs": [
        {
          "output_type": "stream",
          "text": [
            "Taxa de  acerto 66.67\n"
          ],
          "name": "stdout"
        }
      ]
    },
    {
      "cell_type": "code",
      "metadata": {
        "id": "McXZm_IGopvl",
        "colab_type": "code",
        "colab": {
          "base_uri": "https://localhost:8080/",
          "height": 34
        },
        "outputId": "5aa8fba4-d3a5-4d2e-b2a2-c0af6310f7cd"
      },
      "source": [
        "# outa forma de caucular a taxa de acerto pelo sklearn\n",
        "from sklearn.metrics import accuracy_score\n",
        "\n",
        "taxa_de_acerto = accuracy_score(teste_y, previsoes)\n",
        "\n",
        "print(\"Taxa de  acerto %.2f\" % (taxa_de_acerto * 100))\n"
      ],
      "execution_count": 18,
      "outputs": [
        {
          "output_type": "stream",
          "text": [
            "Taxa de  acerto 66.67\n"
          ],
          "name": "stdout"
        }
      ]
    },
    {
      "cell_type": "code",
      "metadata": {
        "id": "MBu6brhJoqco",
        "colab_type": "code",
        "colab": {}
      },
      "source": [
        ""
      ],
      "execution_count": 5,
      "outputs": []
    }
  ]
}