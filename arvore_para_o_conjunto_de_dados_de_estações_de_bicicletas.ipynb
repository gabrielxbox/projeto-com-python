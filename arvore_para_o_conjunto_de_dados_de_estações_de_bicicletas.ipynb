{
  "nbformat": 4,
  "nbformat_minor": 0,
  "metadata": {
    "colab": {
      "name": "arvore para o conjunto de dados de estações de bicicletas.ipynb",
      "provenance": [],
      "authorship_tag": "ABX9TyPcewRXMfxn1DMCXMzgtD46",
      "include_colab_link": true
    },
    "kernelspec": {
      "name": "python3",
      "display_name": "Python 3"
    }
  },
  "cells": [
    {
      "cell_type": "markdown",
      "metadata": {
        "id": "view-in-github",
        "colab_type": "text"
      },
      "source": [
        "<a href=\"https://colab.research.google.com/github/gabrielxbox/projeto-com-python/blob/master/arvore_para_o_conjunto_de_dados_de_esta%C3%A7%C3%B5es_de_bicicletas.ipynb\" target=\"_parent\"><img src=\"https://colab.research.google.com/assets/colab-badge.svg\" alt=\"Open In Colab\"/></a>"
      ]
    },
    {
      "cell_type": "code",
      "metadata": {
        "id": "kBZ0WfflB8Bt",
        "colab_type": "code",
        "colab": {}
      },
      "source": [
        "from sklearn import tree\n",
        "import pandas as pd"
      ],
      "execution_count": null,
      "outputs": []
    },
    {
      "cell_type": "code",
      "metadata": {
        "id": "M4_UPIgrCIcq",
        "colab_type": "code",
        "colab": {}
      },
      "source": [
        "df = pd.read_csv(‘bicicletas/sp_bike.csv’)\n",
        "df.head()"
      ],
      "execution_count": null,
      "outputs": []
    },
    {
      "cell_type": "code",
      "metadata": {
        "id": "BnvkS_M8COp7",
        "colab_type": "code",
        "colab": {}
      },
      "source": [
        "df = df.head(10000)"
      ],
      "execution_count": null,
      "outputs": []
    },
    {
      "cell_type": "code",
      "metadata": {
        "id": "hX0dob8ZCVfC",
        "colab_type": "code",
        "colab": {}
      },
      "source": [
        "df = df[[\"index\", \"available\",\"free\", \"lat\", \"lng\", \"status\"]]\n",
        "df.head(10)"
      ],
      "execution_count": null,
      "outputs": []
    },
    {
      "cell_type": "code",
      "metadata": {
        "id": "H7Ftj5UqCsTW",
        "colab_type": "code",
        "colab": {}
      },
      "source": [
        "def normaliza_categorico(valor, coluna):\n",
        " valores_unicos = list(set(coluna))\n",
        " return valores_unicos.index(valor)"
      ],
      "execution_count": null,
      "outputs": []
    },
    {
      "cell_type": "code",
      "metadata": {
        "id": "OemNz3j1Czr6",
        "colab_type": "code",
        "colab": {}
      },
      "source": [
        "df.status = [normaliza_categorico(_, df.status) for _ in\n",
        "df.status]\n",
        "df.head(10)"
      ],
      "execution_count": null,
      "outputs": []
    },
    {
      "cell_type": "code",
      "metadata": {
        "id": "sJD3MOCpC-9M",
        "colab_type": "code",
        "colab": {}
      },
      "source": [
        "y = df.status\n",
        "y.head(10)"
      ],
      "execution_count": null,
      "outputs": []
    },
    {
      "cell_type": "code",
      "metadata": {
        "id": "ueQ-2lG8DFuS",
        "colab_type": "code",
        "colab": {}
      },
      "source": [
        "df = df.drop('status', axis=1)\n",
        "df.head(10)"
      ],
      "execution_count": null,
      "outputs": []
    },
    {
      "cell_type": "code",
      "metadata": {
        "id": "AIYdZEqnDLKX",
        "colab_type": "code",
        "colab": {}
      },
      "source": [
        "model = tree.DecisionTreeClassifier()\n",
        "model.fit(df.values, y)model = tree.DecisionTreeClassifier()\n",
        "model.fit(df.values, y)"
      ],
      "execution_count": null,
      "outputs": []
    },
    {
      "cell_type": "code",
      "metadata": {
        "id": "h6h-XmVIDMjq",
        "colab_type": "code",
        "colab": {}
      },
      "source": [
        "DecisionTreeClassifier(class_weight=None, criterion='gini',\n",
        "max_depth=None,\n",
        " max_features=None, max_leaf_nodes=None,\n",
        " min_impurity_decrease=0.0, min_impurity_split=None,\n",
        " min_samples_leaf=1, min_samples_split=2,\n",
        " min_weight_fraction_leaf=0.0, presort=False, random_state=None,\n",
        " splitter='best')"
      ],
      "execution_count": null,
      "outputs": []
    },
    {
      "cell_type": "code",
      "metadata": {
        "id": "05WoxO76Db44",
        "colab_type": "code",
        "colab": {}
      },
      "source": [
        "import graphviz\n",
        "dot_data = tree.export_graphviz(model,\n",
        " out_file=None,\n",
        " feature_names=df.columns.tolist(),\n",
        " filled=True, rounded=True,\n",
        " special_characters=True)\n",
        "graph = graphviz.Source(dot_data)"
      ],
      "execution_count": null,
      "outputs": []
    }
  ]
}