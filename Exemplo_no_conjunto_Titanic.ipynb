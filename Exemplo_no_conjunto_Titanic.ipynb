{
  "nbformat": 4,
  "nbformat_minor": 0,
  "metadata": {
    "colab": {
      "name": "Exemplo no conjunto Titanic.ipynb",
      "provenance": [],
      "collapsed_sections": [],
      "authorship_tag": "ABX9TyND7NHUf3IqWBkt+M9+lZQt",
      "include_colab_link": true
    },
    "kernelspec": {
      "name": "python3",
      "display_name": "Python 3"
    }
  },
  "cells": [
    {
      "cell_type": "markdown",
      "metadata": {
        "id": "view-in-github",
        "colab_type": "text"
      },
      "source": [
        "<a href=\"https://colab.research.google.com/github/gabrielxbox/projeto-com-python/blob/master/Exemplo_no_conjunto_Titanic.ipynb\" target=\"_parent\"><img src=\"https://colab.research.google.com/assets/colab-badge.svg\" alt=\"Open In Colab\"/></a>"
      ]
    },
    {
      "cell_type": "code",
      "metadata": {
        "id": "nLFGe5h4EzUU",
        "colab_type": "code",
        "colab": {}
      },
      "source": [
        "from sklearn import tree\n",
        "import pandas as pd"
      ],
      "execution_count": null,
      "outputs": []
    },
    {
      "cell_type": "markdown",
      "metadata": {
        "id": "ttlukrFwOgIE",
        "colab_type": "text"
      },
      "source": [
        "Vamos carregar os dados para os sobreviventes do Titanic."
      ]
    },
    {
      "cell_type": "code",
      "metadata": {
        "id": "KhFf3iBoOimj",
        "colab_type": "code",
        "colab": {}
      },
      "source": [
        "df = pd.read_csv(\"titanic/all/train.csv\")\n",
        "df.head(10)"
      ],
      "execution_count": null,
      "outputs": []
    },
    {
      "cell_type": "code",
      "metadata": {
        "id": "CvQmp3xmOtoq",
        "colab_type": "code",
        "colab": {}
      },
      "source": [
        "df = df[[“sobreviveu”, “classe”, “sexo”, “idade”, “parentes”,\n",
        "“dependentes”, “tarifa”, “embarque”]]\n",
        "df.head(10)"
      ],
      "execution_count": null,
      "outputs": []
    },
    {
      "cell_type": "code",
      "metadata": {
        "id": "4hmUdkyWO125",
        "colab_type": "code",
        "colab": {}
      },
      "source": [
        "#removendo os registros NaN\n",
        "df = df.dropna()\n",
        "df.head(10)"
      ],
      "execution_count": null,
      "outputs": []
    },
    {
      "cell_type": "code",
      "metadata": {
        "id": "3wTYkdkQPBOG",
        "colab_type": "code",
        "colab": {}
      },
      "source": [
        "y = df.classe"
      ],
      "execution_count": null,
      "outputs": []
    },
    {
      "cell_type": "code",
      "metadata": {
        "id": "GXfwoMvUPE9e",
        "colab_type": "code",
        "colab": {}
      },
      "source": [
        "df = df[[“sobreviveu”, “sexo”, “idade”, “parentes”, “dependentes”, “tarifa”, “embarque”]]"
      ],
      "execution_count": null,
      "outputs": []
    },
    {
      "cell_type": "markdown",
      "metadata": {
        "id": "VBH7Dsv6PQX0",
        "colab_type": "text"
      },
      "source": [
        "Antes de treinar os modelos, precisamos tratar os dados. O tratamento mais importante\n",
        "é transformar os campos em formato texto para números. No caso, apenas os campos\n",
        "sexo e embarque apresentam esse problema.\n"
      ]
    },
    {
      "cell_type": "code",
      "metadata": {
        "id": "-xgZ4goMPMzb",
        "colab_type": "code",
        "colab": {}
      },
      "source": [
        "\n",
        "def normaliza_categorico(valor, coluna):\n",
        " valores_unicos = list(set(coluna))\n",
        " return valores_unicos.index(valor)"
      ],
      "execution_count": null,
      "outputs": []
    },
    {
      "cell_type": "code",
      "metadata": {
        "id": "0hlWJuNhPVXm",
        "colab_type": "code",
        "colab": {}
      },
      "source": [
        "df.sexo = [normaliza_categorico(_, df.sexo) for _ in df.sexo]\n",
        "df.head(10)"
      ],
      "execution_count": null,
      "outputs": []
    },
    {
      "cell_type": "code",
      "metadata": {
        "id": "kVLlU5tIPZDp",
        "colab_type": "code",
        "colab": {}
      },
      "source": [
        "df.embarque = [normaliza_categorico(_, df.embarque) for _ in\n",
        "df.embarque]\n",
        "df.head(10)"
      ],
      "execution_count": null,
      "outputs": []
    },
    {
      "cell_type": "code",
      "metadata": {
        "id": "er4NEH0_PfRr",
        "colab_type": "code",
        "colab": {}
      },
      "source": [
        "total_teino = int(df.shape[0]*0.7)\n",
        "total_teino"
      ],
      "execution_count": null,
      "outputs": []
    },
    {
      "cell_type": "code",
      "metadata": {
        "id": "eYL-evKhPj6X",
        "colab_type": "code",
        "colab": {}
      },
      "source": [
        "x_t = df.values[:total_teino]\n",
        "y_t = y[:total_teino]\n",
        "x_v = df.values[total_teino:]\n",
        "y_v = y[total_teino:]"
      ],
      "execution_count": null,
      "outputs": []
    },
    {
      "cell_type": "code",
      "metadata": {
        "id": "eHr5U50NPmvs",
        "colab_type": "code",
        "colab": {}
      },
      "source": [
        "model = tree.DecisionTreeClassifier()\n",
        "model.fit(x_t, y_t)\n"
      ],
      "execution_count": null,
      "outputs": []
    },
    {
      "cell_type": "code",
      "metadata": {
        "id": "Xhxpn__1Pr72",
        "colab_type": "code",
        "colab": {}
      },
      "source": [
        "DecisionTreeClassifier(class_weight=None, criterion=’gini’,\n",
        "max_depth=None,\n",
        " max_features=None, max_leaf_nodes=None,\n",
        " min_impurity_decrease=0.0, min_impurity_split=None,min_samples_leaf=1, min_samples_split=2,\n",
        " min_weight_fraction_leaf=0.0, presort=False, random_state=None,\n",
        " splitter=’best’)\n"
      ],
      "execution_count": null,
      "outputs": []
    },
    {
      "cell_type": "code",
      "metadata": {
        "id": "SoDEmosDPw49",
        "colab_type": "code",
        "colab": {}
      },
      "source": [
        "model.score(x_v, y_v)"
      ],
      "execution_count": null,
      "outputs": []
    },
    {
      "cell_type": "code",
      "metadata": {
        "id": "YclLxgu_P4eb",
        "colab_type": "code",
        "colab": {}
      },
      "source": [
        "import graphviz\n",
        "dot_data = tree.export_graphviz(model,\n",
        " out_file=None,\n",
        " feature_names=df.columns.tolist(),\n",
        " filled=True, rounded=True,\n",
        "special_characters=True)\n",
        "graph = graphviz.Source(dot_data)\n",
        "graph"
      ],
      "execution_count": null,
      "outputs": []
    },
    {
      "cell_type": "code",
      "metadata": {
        "id": "EOEEDGuuQF8u",
        "colab_type": "code",
        "colab": {}
      },
      "source": [
        ""
      ],
      "execution_count": null,
      "outputs": []
    }
  ]
}