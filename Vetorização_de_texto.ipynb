{
  "nbformat": 4,
  "nbformat_minor": 0,
  "metadata": {
    "colab": {
      "name": "Vetorização de texto.ipynb",
      "provenance": [],
      "collapsed_sections": [],
      "authorship_tag": "ABX9TyOB95Y9wrqOAjd1GppP2K65",
      "include_colab_link": true
    },
    "kernelspec": {
      "name": "python3",
      "display_name": "Python 3"
    }
  },
  "cells": [
    {
      "cell_type": "markdown",
      "metadata": {
        "id": "view-in-github",
        "colab_type": "text"
      },
      "source": [
        "<a href=\"https://colab.research.google.com/github/gabrielxbox/projeto-com-python/blob/master/Vetoriza%C3%A7%C3%A3o_de_texto.ipynb\" target=\"_parent\"><img src=\"https://colab.research.google.com/assets/colab-badge.svg\" alt=\"Open In Colab\"/></a>"
      ]
    },
    {
      "cell_type": "code",
      "metadata": {
        "id": "SZzi8O3AwFvR",
        "colab_type": "code",
        "colab": {}
      },
      "source": [
        "import pandas as pd\n",
        "import numpy as np\n",
        "from numpy.linalg import svd\n",
        "from nltk.stem import RSLPStemmer\n",
        "import multiprocessing as mp\n",
        "import matplotlib.pyplot as plt"
      ],
      "execution_count": null,
      "outputs": []
    },
    {
      "cell_type": "code",
      "metadata": {
        "id": "YSaUdUM4wHcp",
        "colab_type": "code",
        "colab": {}
      },
      "source": [
        "df = pd.read_csv(“Tweets_Mg.csv”)\n",
        "df.head(10)\n",
        "\n",
        "df = df.Text\n",
        "df.head(10)"
      ],
      "execution_count": null,
      "outputs": []
    },
    {
      "cell_type": "markdown",
      "metadata": {
        "id": "g7o-u9mYwuPC",
        "colab_type": "text"
      },
      "source": [
        "O primeiro passo é separar as palavras. Vamos começar montando um dicionário\n",
        "com todas elas e quantas vezes aparecem em cada documento, ou seja, vamos contar.\n",
        "Começamos pela função que conta as palavras de um texto."
      ]
    },
    {
      "cell_type": "code",
      "metadata": {
        "id": "d_PLKmKYwvF7",
        "colab_type": "code",
        "colab": {}
      },
      "source": [
        "def conta_palavras(texto):\n",
        " palavras = texto.split(“ “)\n",
        " return {x:palavras.count(x) for x in palavras}"
      ],
      "execution_count": null,
      "outputs": []
    },
    {
      "cell_type": "code",
      "metadata": {
        "id": "M0-ybszjw5Vy",
        "colab_type": "code",
        "colab": {}
      },
      "source": [
        "conta_palavras(df.values[0])"
      ],
      "execution_count": null,
      "outputs": []
    },
    {
      "cell_type": "markdown",
      "metadata": {
        "id": "nmtwDzvOxPRJ",
        "colab_type": "text"
      },
      "source": [
        "Antes de apenas contar, precisamos executar alguns passos para eliminar coisas como\n",
        "estas: palavras de pouco significado semântico (como as preposições de, para, em\n",
        "etc.), padronizar as palavras de forma que o tempo verbal, plural ou singular, gênero e\n",
        "outros diferenciais não interfiram.\n",
        "Vamos remover as preposições, as chamadas stopwords, e depois faremos uso da\n",
        "classe RSLPStemmer do pacote nltk importado anteriormente. Essa classe executa um\n",
        "processo chamado stemming. Vejamos a seguir o comportamento desse processo"
      ]
    },
    {
      "cell_type": "code",
      "metadata": {
        "id": "09OqyOC8xQGC",
        "colab_type": "code",
        "colab": {}
      },
      "source": [
        "stemer = RSLPStemmer()"
      ],
      "execution_count": null,
      "outputs": []
    },
    {
      "cell_type": "code",
      "metadata": {
        "id": "bNpeGtuNxYF6",
        "colab_type": "code",
        "colab": {}
      },
      "source": [
        "stemer.stem(“Governador”)"
      ],
      "execution_count": null,
      "outputs": []
    },
    {
      "cell_type": "code",
      "metadata": {
        "id": "0l5-l3-bxbQ7",
        "colab_type": "code",
        "colab": {}
      },
      "source": [
        "stemer.stem(“Governadora”)"
      ],
      "execution_count": null,
      "outputs": []
    },
    {
      "cell_type": "code",
      "metadata": {
        "id": "y9qMYPQjxe8h",
        "colab_type": "code",
        "colab": {}
      },
      "source": [
        "stemer.stem(“Governadoras”)"
      ],
      "execution_count": null,
      "outputs": []
    },
    {
      "cell_type": "code",
      "metadata": {
        "id": "Px94K1rhxjsf",
        "colab_type": "code",
        "colab": {}
      },
      "source": [
        "stemer.stem(“Valadares/MG”)"
      ],
      "execution_count": null,
      "outputs": []
    },
    {
      "cell_type": "code",
      "metadata": {
        "id": "nJc6P8Z6xkUB",
        "colab_type": "code",
        "colab": {}
      },
      "source": [
        "stemer.stem(“https://t.co/JSbKamIqUJ”)"
      ],
      "execution_count": null,
      "outputs": []
    },
    {
      "cell_type": "code",
      "metadata": {
        "id": "n4yl0xnWxt6X",
        "colab_type": "code",
        "colab": {}
      },
      "source": [
        "stemer.stem(“���⛪”)"
      ],
      "execution_count": null,
      "outputs": []
    },
    {
      "cell_type": "code",
      "metadata": {
        "id": "mmNoqgiQxxVb",
        "colab_type": "code",
        "colab": {}
      },
      "source": [
        "stemer.stem(“@”)"
      ],
      "execution_count": null,
      "outputs": []
    },
    {
      "cell_type": "markdown",
      "metadata": {
        "id": "2hoi3i1vx5sa",
        "colab_type": "text"
      },
      "source": [
        "Perceba que as expressões foram normalizadas para caixa baixa, e tiveram o número\n",
        "(plural ou singular) e o gênero removidos.\n",
        "Quanto às palavras de pouco significado, elas são as chamadas stopwords. Vamos\n",
        "remover essas palavras do texto. Vamos começar carregando essas palavras."
      ]
    },
    {
      "cell_type": "code",
      "metadata": {
        "id": "8vDzQng5x6t_",
        "colab_type": "code",
        "colab": {}
      },
      "source": [
        "stopwords = pd.read_csv(“stopwords.csv”)\n",
        "stopwords.head(10)"
      ],
      "execution_count": null,
      "outputs": []
    },
    {
      "cell_type": "code",
      "metadata": {
        "id": "h8ehmwi9yGzY",
        "colab_type": "code",
        "colab": {}
      },
      "source": [
        "stopwords = stopwords.values\n",
        "stopwords[:10]"
      ],
      "execution_count": null,
      "outputs": []
    },
    {
      "cell_type": "code",
      "metadata": {
        "id": "R_25oduzyHW4",
        "colab_type": "code",
        "colab": {}
      },
      "source": [
        "stopwords = [linha[0].strip() for linha in stopwords]\n",
        "stopwords"
      ],
      "execution_count": null,
      "outputs": []
    },
    {
      "cell_type": "code",
      "metadata": {
        "id": "U1DHK10ZyPbO",
        "colab_type": "code",
        "colab": {}
      },
      "source": [
        "def conta_palavras(texto, stopwords=stopwords):\n",
        " palavras = texto.split(“ “)\n",
        " palavras = [palavra for palavra in palavras if palavra not\n",
        "in stopwords]\n",
        " return {x:palavras.count(x) for x in palavras}"
      ],
      "execution_count": null,
      "outputs": []
    },
    {
      "cell_type": "code",
      "metadata": {
        "id": "zWuFfIMDyZGw",
        "colab_type": "code",
        "colab": {}
      },
      "source": [
        "conta_palavras(df.values[0])"
      ],
      "execution_count": null,
      "outputs": []
    },
    {
      "cell_type": "code",
      "metadata": {
        "id": "cTYvEQnsycaw",
        "colab_type": "code",
        "colab": {}
      },
      "source": [
        "def conta_palavras(texto, stopwords=stopwords):\n",
        " palavras = texto.split(“ “)\n",
        " palavras = [palavra for palavra in palavras if palavra not\n",
        "in stopwords and palavra.isalpha()]\n",
        " return {x:palavras.count(x) for x in palavras}"
      ],
      "execution_count": null,
      "outputs": []
    },
    {
      "cell_type": "code",
      "metadata": {
        "id": "sZKvvBGbyr02",
        "colab_type": "code",
        "colab": {}
      },
      "source": [
        "conta_palavras(df.values[0])"
      ],
      "execution_count": null,
      "outputs": []
    },
    {
      "cell_type": "code",
      "metadata": {
        "id": "NMxEwvj3y1ma",
        "colab_type": "code",
        "colab": {}
      },
      "source": [
        "def conta_palavras(texto, stopwords=stopwords, stemer=stemer):"
      ],
      "execution_count": null,
      "outputs": []
    },
    {
      "cell_type": "code",
      "metadata": {
        "id": "A_w-YTB2y5EW",
        "colab_type": "code",
        "colab": {}
      },
      "source": [
        "palavras = texto.split(“ “)\n",
        " palavras = [stemer.stem(palavra) for palavra in palavras if\n",
        "palavra not in stopwords and palavra.isalpha()]\n",
        " return {x:palavras.count(x) for x in palavras}"
      ],
      "execution_count": null,
      "outputs": []
    },
    {
      "cell_type": "code",
      "metadata": {
        "id": "QCjxDd98y89s",
        "colab_type": "code",
        "colab": {}
      },
      "source": [
        "conta_palavras(df.values[0])"
      ],
      "execution_count": null,
      "outputs": []
    },
    {
      "cell_type": "markdown",
      "metadata": {
        "id": "jCg7GjOKzD3d",
        "colab_type": "text"
      },
      "source": [
        "Agora temos o resultado que queremos. Vamos aplicar isso aos demais textos, vamos usar\n",
        "a função map do pacote multiprocessing e gerar o resultado em paralelo para otimizar."
      ]
    },
    {
      "cell_type": "code",
      "metadata": {
        "id": "tHZ6BNnDzHSa",
        "colab_type": "code",
        "colab": {}
      },
      "source": [
        "with mp.Pool() as p:\n",
        " contagem = p.map(conta_palavras, df.values)"
      ],
      "execution_count": null,
      "outputs": []
    },
    {
      "cell_type": "code",
      "metadata": {
        "id": "0XJ9JfkIzV_f",
        "colab_type": "code",
        "colab": {}
      },
      "source": [
        "termo_documento_transposto = pd.DataFrame(contagem)\n",
        "termo_documento_transposto.head(10)"
      ],
      "execution_count": null,
      "outputs": []
    },
    {
      "cell_type": "code",
      "metadata": {
        "id": "If0TXGv4z2k-",
        "colab_type": "code",
        "colab": {}
      },
      "source": [
        "termo_documento_transposto = termo_documento_transposto.fillna(0)\n",
        "termo_documento_transposto.head(100)"
      ],
      "execution_count": null,
      "outputs": []
    },
    {
      "cell_type": "code",
      "metadata": {
        "id": "r6kDm3HR0AlO",
        "colab_type": "code",
        "colab": {}
      },
      "source": [
        "plt.figure(figsize=(20, 20))"
      ],
      "execution_count": null,
      "outputs": []
    },
    {
      "cell_type": "code",
      "metadata": {
        "id": "1O80zwsb0D3f",
        "colab_type": "code",
        "colab": {}
      },
      "source": [
        "plt.imshow(termo_documento_transposto, cmap=’gray’)"
      ],
      "execution_count": null,
      "outputs": []
    },
    {
      "cell_type": "code",
      "metadata": {
        "id": "w6nmC9Vf05IK",
        "colab_type": "code",
        "colab": {}
      },
      "source": [
        "termo_documento = termo_documento_transposto.T\n",
        "termo_documento.head(10)"
      ],
      "execution_count": null,
      "outputs": []
    },
    {
      "cell_type": "code",
      "metadata": {
        "id": "J7V3Pre51CC1",
        "colab_type": "code",
        "colab": {}
      },
      "source": [
        "U, W, Vt = svd(termo_documento.values, full_matrices=True)"
      ],
      "execution_count": null,
      "outputs": []
    },
    {
      "cell_type": "code",
      "metadata": {
        "id": "TCAwLzv21Grm",
        "colab_type": "code",
        "colab": {}
      },
      "source": [
        "plt.figure(figsize=(15, 15))\n",
        "plt.imshow(U, cmap=’gray’)"
      ],
      "execution_count": null,
      "outputs": []
    },
    {
      "cell_type": "code",
      "metadata": {
        "id": "Bcl5fdbr1W-y",
        "colab_type": "code",
        "colab": {}
      },
      "source": [
        "plt.figure(figsize=(15, 15))\n",
        "plt.imshow(Vt, cmap=’gray’)"
      ],
      "execution_count": null,
      "outputs": []
    },
    {
      "cell_type": "markdown",
      "metadata": {
        "id": "233_iVeH1np2",
        "colab_type": "text"
      },
      "source": [
        "Vamos começar analisando a similaridade semântica de documentos. Vamos começar\n",
        "colhendo alguns documentos da lista de tweets original:"
      ]
    },
    {
      "cell_type": "code",
      "metadata": {
        "id": "PleZXPQx1oV6",
        "colab_type": "code",
        "colab": {}
      },
      "source": [
        "indice_amostra = [12, 53, 8, 8188, 8169, 8198, 9, 13, 14]\n",
        "amostra = df[indice_amostra]\n",
        "for indice, documento in amostra.iteritems():\n",
        " print(indice, “\\n”, documento, “\\n”, “-”*50, “\\n”)"
      ],
      "execution_count": null,
      "outputs": []
    },
    {
      "cell_type": "code",
      "metadata": {
        "id": "47GCA3tQ2E49",
        "colab_type": "code",
        "colab": {}
      },
      "source": [
        "V = np.transpose(Vt)\n"
      ],
      "execution_count": null,
      "outputs": []
    },
    {
      "cell_type": "code",
      "metadata": {
        "id": "3VAQ0oGe2ISG",
        "colab_type": "code",
        "colab": {}
      },
      "source": [
        "V_amostra = V[indice_amostra]\n",
        "V_amostra"
      ],
      "execution_count": null,
      "outputs": []
    },
    {
      "cell_type": "code",
      "metadata": {
        "id": "VlorJTbM2Tdh",
        "colab_type": "code",
        "colab": {}
      },
      "source": [
        "V_amostra2 = V_amostra[:,:2]\n",
        "V_amostra2"
      ],
      "execution_count": null,
      "outputs": []
    },
    {
      "cell_type": "code",
      "metadata": {
        "id": "abvWyOVd2Ytx",
        "colab_type": "code",
        "colab": {}
      },
      "source": [
        "V_amostra2 = np.asarray([v/np.linalg.norm(v) for v in V_amostra2])"
      ],
      "execution_count": null,
      "outputs": []
    },
    {
      "cell_type": "code",
      "metadata": {
        "id": "dr84Bh7y2gsU",
        "colab_type": "code",
        "colab": {}
      },
      "source": [
        "plt.figure(figsize=(12, 12))\n",
        "x = V_amostra2[:, 0]\n",
        "y = V_amostra2[:, 1]\n",
        "plt.scatter(x, y)\n",
        "for i, indice in enumerate(indice_amostra):\n",
        " plt.annotate(indice, (x[i], y[i]))\n",
        " "
      ],
      "execution_count": null,
      "outputs": []
    },
    {
      "cell_type": "code",
      "metadata": {
        "id": "I7koNx962tgN",
        "colab_type": "code",
        "colab": {}
      },
      "source": [
        "df[12]"
      ],
      "execution_count": null,
      "outputs": []
    },
    {
      "cell_type": "code",
      "metadata": {
        "id": "3wOOcgqZ2wbF",
        "colab_type": "code",
        "colab": {}
      },
      "source": [
        "df[53]"
      ],
      "execution_count": null,
      "outputs": []
    }
  ]
}