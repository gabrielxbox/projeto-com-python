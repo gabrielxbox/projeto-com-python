{
  "nbformat": 4,
  "nbformat_minor": 0,
  "metadata": {
    "colab": {
      "name": "pos graduacao teoria por trás dos k-vizinhos mais próximos.ipynb",
      "provenance": [],
      "collapsed_sections": [],
      "authorship_tag": "ABX9TyMc/BgDAuTNt9nK5dGOKajH",
      "include_colab_link": true
    },
    "kernelspec": {
      "name": "python3",
      "display_name": "Python 3"
    }
  },
  "cells": [
    {
      "cell_type": "markdown",
      "metadata": {
        "id": "view-in-github",
        "colab_type": "text"
      },
      "source": [
        "<a href=\"https://colab.research.google.com/github/gabrielxbox/projeto-com-python/blob/master/pos_graduacao_teoria_por_tr%C3%A1s_dos_k_vizinhos_mais_pr%C3%B3ximos.ipynb\" target=\"_parent\"><img src=\"https://colab.research.google.com/assets/colab-badge.svg\" alt=\"Open In Colab\"/></a>"
      ]
    },
    {
      "cell_type": "code",
      "metadata": {
        "id": "U02Ncic7Zus4",
        "colab_type": "code",
        "colab": {}
      },
      "source": [
        "#A teoria por trás dos k-vizinhos mais próximos\n",
        "import numpy as np"
      ],
      "execution_count": 1,
      "outputs": []
    },
    {
      "cell_type": "code",
      "metadata": {
        "id": "NIv4O7boZ54-",
        "colab_type": "code",
        "colab": {}
      },
      "source": [
        "x = np.random.rand(15, 2)"
      ],
      "execution_count": 2,
      "outputs": []
    },
    {
      "cell_type": "code",
      "metadata": {
        "id": "izpoZivEZ8v1",
        "colab_type": "code",
        "colab": {
          "base_uri": "https://localhost:8080/",
          "height": 54
        },
        "outputId": "f98e537e-3574-4855-d19f-76d119cc6d3a"
      },
      "source": [
        "x = array =([[0.65393533, 0.07378959],\n",
        " [0.01362754, 0.30543298],\n",
        " [0.50288499, 0.23704151],\n",
        " [0.09559551, 0.09928631],\n",
        " [0.82085802, 0.79701245],\n",
        " [0.23021101, 0.45519148],\n",
        " [0.45140081, 0.89123427],\n",
        " [0.39437961, 0.5796686 ],\n",
        " [0.67389496, 0.58155367],\n",
        " [0.218252 , 0.37336878],\n",
        " [0.86327621, 0.03105336],\n",
        " [0.33363397, 0.76242948],\n",
        " [0.63696989, 0.43432245],\n",
        " [0.60458466, 0.68102959],\n",
        " [0.26052168, 0.72007242]])\n",
        "\n",
        "print(x) "
      ],
      "execution_count": 21,
      "outputs": [
        {
          "output_type": "stream",
          "text": [
            "[[0.65393533, 0.07378959], [0.01362754, 0.30543298], [0.50288499, 0.23704151], [0.09559551, 0.09928631], [0.82085802, 0.79701245], [0.23021101, 0.45519148], [0.45140081, 0.89123427], [0.39437961, 0.5796686], [0.67389496, 0.58155367], [0.218252, 0.37336878], [0.86327621, 0.03105336], [0.33363397, 0.76242948], [0.63696989, 0.43432245], [0.60458466, 0.68102959], [0.26052168, 0.72007242]]\n"
          ],
          "name": "stdout"
        }
      ]
    },
    {
      "cell_type": "code",
      "metadata": {
        "id": "TjUnrsSObefM",
        "colab_type": "code",
        "colab": {}
      },
      "source": [
        "from bokeh.plotting import figure, show, output_notebook\n",
        "p = figure(title = \"Performance do modelo de vizinhos mais próximos\")"
      ],
      "execution_count": 18,
      "outputs": []
    },
    {
      "cell_type": "code",
      "metadata": {
        "id": "JoNJQBItbjKJ",
        "colab_type": "code",
        "colab": {
          "base_uri": "https://localhost:8080/",
          "height": 231
        },
        "outputId": "adb066ee-6a07-4755-e53f-87820236df00"
      },
      "source": [
        "p.xaxis.axis_label = 'Coordenada 1'\n",
        "p.yaxis.axis_label = 'oordenada 2'\n",
        "\n",
        "p.circle(x[:,0], x[:,1], size=10)\n",
        "output_notebook()\n",
        "show(p)"
      ],
      "execution_count": 24,
      "outputs": [
        {
          "output_type": "error",
          "ename": "TypeError",
          "evalue": "ignored",
          "traceback": [
            "\u001b[0;31m---------------------------------------------------------------------------\u001b[0m",
            "\u001b[0;31mTypeError\u001b[0m                                 Traceback (most recent call last)",
            "\u001b[0;32m<ipython-input-24-e98c2e0c50ea>\u001b[0m in \u001b[0;36m<module>\u001b[0;34m()\u001b[0m\n\u001b[1;32m      2\u001b[0m \u001b[0mp\u001b[0m\u001b[0;34m.\u001b[0m\u001b[0myaxis\u001b[0m\u001b[0;34m.\u001b[0m\u001b[0maxis_label\u001b[0m \u001b[0;34m=\u001b[0m \u001b[0;34m'oordenada 2'\u001b[0m\u001b[0;34m\u001b[0m\u001b[0;34m\u001b[0m\u001b[0m\n\u001b[1;32m      3\u001b[0m \u001b[0;34m\u001b[0m\u001b[0m\n\u001b[0;32m----> 4\u001b[0;31m \u001b[0mp\u001b[0m\u001b[0;34m.\u001b[0m\u001b[0mcircle\u001b[0m\u001b[0;34m(\u001b[0m\u001b[0mx\u001b[0m\u001b[0;34m[\u001b[0m\u001b[0;34m:\u001b[0m\u001b[0;34m,\u001b[0m\u001b[0;36m0\u001b[0m\u001b[0;34m]\u001b[0m\u001b[0;34m,\u001b[0m \u001b[0mx\u001b[0m\u001b[0;34m[\u001b[0m\u001b[0;34m:\u001b[0m\u001b[0;34m,\u001b[0m\u001b[0;36m1\u001b[0m\u001b[0;34m]\u001b[0m\u001b[0;34m,\u001b[0m \u001b[0msize\u001b[0m\u001b[0;34m=\u001b[0m\u001b[0;36m10\u001b[0m\u001b[0;34m)\u001b[0m\u001b[0;34m\u001b[0m\u001b[0;34m\u001b[0m\u001b[0m\n\u001b[0m\u001b[1;32m      5\u001b[0m \u001b[0moutput_notebook\u001b[0m\u001b[0;34m(\u001b[0m\u001b[0;34m)\u001b[0m\u001b[0;34m\u001b[0m\u001b[0;34m\u001b[0m\u001b[0m\n\u001b[1;32m      6\u001b[0m \u001b[0mshow\u001b[0m\u001b[0;34m(\u001b[0m\u001b[0mp\u001b[0m\u001b[0;34m)\u001b[0m\u001b[0;34m\u001b[0m\u001b[0;34m\u001b[0m\u001b[0m\n",
            "\u001b[0;31mTypeError\u001b[0m: list indices must be integers or slices, not tuple"
          ]
        }
      ]
    },
    {
      "cell_type": "code",
      "metadata": {
        "id": "vT6wH8E7end1",
        "colab_type": "code",
        "colab": {
          "base_uri": "https://localhost:8080/",
          "height": 180
        },
        "outputId": "2032bc23-1d0e-4af2-dee1-7cd1e55f2b16"
      },
      "source": [
        "centroide = np.mean(x, axis=0)\n",
        "#centroide = array([0.45026841, 0.4681658 ])"
      ],
      "execution_count": 27,
      "outputs": [
        {
          "output_type": "error",
          "ename": "TypeError",
          "evalue": "ignored",
          "traceback": [
            "\u001b[0;31m---------------------------------------------------------------------------\u001b[0m",
            "\u001b[0;31mTypeError\u001b[0m                                 Traceback (most recent call last)",
            "\u001b[0;32m<ipython-input-27-75ffa6866ac8>\u001b[0m in \u001b[0;36m<module>\u001b[0;34m()\u001b[0m\n\u001b[1;32m      1\u001b[0m \u001b[0mcentroide\u001b[0m \u001b[0;34m=\u001b[0m \u001b[0mnp\u001b[0m\u001b[0;34m.\u001b[0m\u001b[0mmean\u001b[0m\u001b[0;34m(\u001b[0m\u001b[0mx\u001b[0m\u001b[0;34m,\u001b[0m \u001b[0maxis\u001b[0m\u001b[0;34m=\u001b[0m\u001b[0;36m0\u001b[0m\u001b[0;34m)\u001b[0m\u001b[0;34m\u001b[0m\u001b[0;34m\u001b[0m\u001b[0m\n\u001b[0;32m----> 2\u001b[0;31m \u001b[0mcentroide\u001b[0m \u001b[0;34m=\u001b[0m \u001b[0marray\u001b[0m\u001b[0;34m(\u001b[0m\u001b[0;34m[\u001b[0m\u001b[0;36m0.45026841\u001b[0m\u001b[0;34m,\u001b[0m \u001b[0;36m0.4681658\u001b[0m \u001b[0;34m]\u001b[0m\u001b[0;34m)\u001b[0m\u001b[0;34m\u001b[0m\u001b[0;34m\u001b[0m\u001b[0m\n\u001b[0m",
            "\u001b[0;31mTypeError\u001b[0m: 'list' object is not callable"
          ]
        }
      ]
    },
    {
      "cell_type": "code",
      "metadata": {
        "id": "P5xTvhaZfFbu",
        "colab_type": "code",
        "colab": {}
      },
      "source": [
        "from bokeh.plotting import figure, show, output_notebook\n",
        "p = figure(title = \"Performance do modelo de vizinhos mais\n",
        "próximos\")"
      ],
      "execution_count": null,
      "outputs": []
    },
    {
      "cell_type": "code",
      "metadata": {
        "id": "dsGVZl7nfPOY",
        "colab_type": "code",
        "colab": {}
      },
      "source": [
        "p.xaxis.axis_label = 'Coordenada 1'\n",
        "p.yaxis.axis_label = 'Coordenada 2'\n",
        "p.circle(x[:,0], x[:1], size=10)\n",
        "p.triangle(centroide[0], centroide[1], size=10,\n",
        "color=['green'])\n",
        "output_notebook()\n",
        "show(p)"
      ],
      "execution_count": null,
      "outputs": []
    },
    {
      "cell_type": "code",
      "metadata": {
        "id": "gFp0ZJuYgNoA",
        "colab_type": "code",
        "colab": {}
      },
      "source": [
        "meio_max = np.max(distancias)/2"
      ],
      "execution_count": null,
      "outputs": []
    },
    {
      "cell_type": "code",
      "metadata": {
        "id": "ckjpjmRZgXsZ",
        "colab_type": "code",
        "colab": {}
      },
      "source": [
        "y = np.array([int(np.linalg.norm(centroide-xi) < meio_max) for xi in x])"
      ],
      "execution_count": null,
      "outputs": []
    },
    {
      "cell_type": "markdown",
      "metadata": {
        "id": "V9eCerT4gqtd",
        "colab_type": "text"
      },
      "source": [
        "v = np.random.rand(1, 2)"
      ]
    },
    {
      "cell_type": "code",
      "metadata": {
        "id": "xMpqzr5Jgy_I",
        "colab_type": "code",
        "colab": {}
      },
      "source": [
        "distancias = np.array([np.linalg.norm(v-xi) for xi in x])"
      ],
      "execution_count": null,
      "outputs": []
    },
    {
      "cell_type": "code",
      "metadata": {
        "id": "knMFU3HKg8xm",
        "colab_type": "code",
        "colab": {}
      },
      "source": [
        "distancias = [_ for _ in zip(distancias, y)]"
      ],
      "execution_count": null,
      "outputs": []
    },
    {
      "cell_type": "code",
      "metadata": {
        "id": "7ECDj2AhhDL6",
        "colab_type": "code",
        "colab": {}
      },
      "source": [
        "ordenados = np.sort(distancias, axis=0)"
      ],
      "execution_count": null,
      "outputs": []
    },
    {
      "cell_type": "code",
      "metadata": {
        "id": "GTJS_Mi4hIng",
        "colab_type": "code",
        "colab": {}
      },
      "source": [
        "ordenados[:5]"
      ],
      "execution_count": null,
      "outputs": []
    }
  ]
}