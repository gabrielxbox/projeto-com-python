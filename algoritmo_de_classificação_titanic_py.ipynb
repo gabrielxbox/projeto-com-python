{
  "nbformat": 4,
  "nbformat_minor": 0,
  "metadata": {
    "colab": {
      "name": "algoritmo de classificação titanic.py",
      "provenance": [],
      "collapsed_sections": [],
      "authorship_tag": "ABX9TyN3mYVJ4TeOl8ySOCfza0W6",
      "include_colab_link": true
    },
    "kernelspec": {
      "name": "python3",
      "display_name": "Python 3"
    }
  },
  "cells": [
    {
      "cell_type": "markdown",
      "metadata": {
        "id": "view-in-github",
        "colab_type": "text"
      },
      "source": [
        "<a href=\"https://colab.research.google.com/github/gabrielxbox/projeto-com-python/blob/master/algoritmo_de_classifica%C3%A7%C3%A3o_titanic_py.ipynb\" target=\"_parent\"><img src=\"https://colab.research.google.com/assets/colab-badge.svg\" alt=\"Open In Colab\"/></a>"
      ]
    },
    {
      "cell_type": "code",
      "metadata": {
        "id": "1Y7JjItph3fD",
        "colab_type": "code",
        "colab": {}
      },
      "source": [
        "import pandas as pd\n",
        "import numpy as np"
      ],
      "execution_count": null,
      "outputs": []
    },
    {
      "cell_type": "code",
      "metadata": {
        "id": "v66moMJXkyXK",
        "colab_type": "code",
        "colab": {}
      },
      "source": [
        "df = pd.read_csv(“all/train.csv”)\n",
        "df.head(10)"
      ],
      "execution_count": null,
      "outputs": []
    },
    {
      "cell_type": "code",
      "metadata": {
        "id": "4m21-ycIlEiY",
        "colab_type": "code",
        "colab": {}
      },
      "source": [
        "df = df[[\"sobreviveu\", \"classe\", \"sexo\", \"idade\", \"parentes\",\n",
        "\"dependentes\", \"tarifa\", \"cabine\", \"embarque\"]]\n",
        "df.head(10)"
      ],
      "execution_count": null,
      "outputs": []
    },
    {
      "cell_type": "code",
      "metadata": {
        "id": "w1JMF9kBleId",
        "colab_type": "code",
        "colab": {}
      },
      "source": [
        "labels = df.sobreviveu\n",
        "labels.head(10)"
      ],
      "execution_count": null,
      "outputs": []
    },
    {
      "cell_type": "code",
      "metadata": {
        "id": "darDO2Jxltqq",
        "colab_type": "code",
        "colab": {}
      },
      "source": [
        "df.loc[pd.isna(df['classe']), 'classe'].shape"
      ],
      "execution_count": null,
      "outputs": []
    },
    {
      "cell_type": "code",
      "metadata": {
        "id": "sTjBoPRrl87H",
        "colab_type": "code",
        "colab": {}
      },
      "source": [
        "df.loc[pd.isna(df['sexo']), 'sexo'].shape"
      ],
      "execution_count": null,
      "outputs": []
    },
    {
      "cell_type": "code",
      "metadata": {
        "id": "EQBT8rSPmCzT",
        "colab_type": "code",
        "colab": {}
      },
      "source": [
        "df.loc[pd.isna(df['idade']), 'idade'].shape"
      ],
      "execution_count": null,
      "outputs": []
    },
    {
      "cell_type": "code",
      "metadata": {
        "id": "9OQYHzSemPhM",
        "colab_type": "code",
        "colab": {}
      },
      "source": [
        "indefinidos_idade = df.loc[pd.isna(df['idade']), 'idade'].shape[0]\n",
        "total = df.idade.shape[0]\n",
        "indefinidos_idade/total * 100"
      ],
      "execution_count": null,
      "outputs": []
    },
    {
      "cell_type": "markdown",
      "metadata": {
        "id": "U4PDET6Vngbn",
        "colab_type": "text"
      },
      "source": [
        "Os campos em que temos problemas são:\n",
        "» idade (19.87%).\n",
        "» cabine (77.10%).\n",
        "» embarque (0.22%).\n",
        "O campo cabine é o que mais compromete: 77,10% é muito! Em lugar de corrigir esses\n",
        "dados é melhor assumir que simplesmente não possuímos essa informação e excluí-la\n",
        "do nosso conjunto de dados."
      ]
    },
    {
      "cell_type": "code",
      "metadata": {
        "id": "LfLCewYWm-A5",
        "colab_type": "code",
        "colab": {}
      },
      "source": [
        "calcula_percentual_indefinido(df, 'parentes')\n",
        "\n",
        "calcula_percentual_indefinido(df, 'dependentes')\n",
        "\n",
        "calcula_percentual_indefinido(df, 'tarifa')\n",
        "\n",
        "calcula_percentual_indefinido(df, 'cabine')\n",
        "\n",
        "calcula_percentual_indefinido(df, 'embarque')\n",
        "\n",
        "df = df.drop('cabine', axis=1)\n",
        "df.head(10)"
      ],
      "execution_count": null,
      "outputs": []
    },
    {
      "cell_type": "code",
      "metadata": {
        "id": "GLxkO3VTn75g",
        "colab_type": "code",
        "colab": {}
      },
      "source": [
        "df = df[np.isfinite(df['idade'])]\n",
        "df.head(10)\n",
        "\n"
      ],
      "execution_count": null,
      "outputs": []
    },
    {
      "cell_type": "code",
      "metadata": {
        "id": "asArrdUMoFEy",
        "colab_type": "code",
        "colab": {}
      },
      "source": [
        "calcula_percentual_indefinido(df, 'idade')"
      ],
      "execution_count": null,
      "outputs": []
    },
    {
      "cell_type": "code",
      "metadata": {
        "id": "DFaJBl_OoNYJ",
        "colab_type": "code",
        "colab": {}
      },
      "source": [
        "df = df[ ~pd.isna(df.embarque)]\n",
        "calcula_percentual_indefinido(df, 'embarque')"
      ],
      "execution_count": null,
      "outputs": []
    },
    {
      "cell_type": "code",
      "metadata": {
        "id": "E0lJm48_oXdC",
        "colab_type": "code",
        "colab": {}
      },
      "source": [
        "df.classe.unique()\n",
        "\n",
        "\n",
        "\n",
        "def one_hot(categorias, valor):\n",
        " # Transforma as categorias num conjunto para eliminar duplicatas,\n",
        " # depois transforma em lista para obter índice\n",
        " categorias = list(set(categorias))\n",
        "\n",
        " # Obtém o índice do elemento atual\n",
        " indice = categorias.index(valor)\n",
        "\n",
        " # Cria um vetor com o número de coordenadas igual ao número\n",
        " de categorias\n",
        " vetor = np.zeros(len(categorias))\n",
        "\n",
        " # Modifica o índice correspondente a classe para 1.0 no ve\n",
        " tor de categorias\n",
        " vetor[indice] = 1.0\n",
        "\n",
        " # devolve o vetor one-hot resultante\n",
        " return vetor\n",
        "\n",
        " one_hot(df.classe, 1)\n",
        "\n",
        " one_hot(df.classe, 2)\n",
        "\n",
        " one_hot(df.classe, 3)"
      ],
      "execution_count": null,
      "outputs": []
    },
    {
      "cell_type": "code",
      "metadata": {
        "id": "7q-e6eLppEDu",
        "colab_type": "code",
        "colab": {}
      },
      "source": [
        "df.sexo.unique()"
      ],
      "execution_count": null,
      "outputs": []
    },
    {
      "cell_type": "code",
      "metadata": {
        "id": "g2m8aEo3pHTR",
        "colab_type": "code",
        "colab": {}
      },
      "source": [
        "one_hot(df.sexo, 'male')\n",
        "\n",
        "one_hot(df.sexo, 'female')"
      ],
      "execution_count": null,
      "outputs": []
    },
    {
      "cell_type": "code",
      "metadata": {
        "id": "tRjBC_m7pQIU",
        "colab_type": "code",
        "colab": {}
      },
      "source": [
        "df.embarque.unique()\n"
      ],
      "execution_count": null,
      "outputs": []
    },
    {
      "cell_type": "code",
      "metadata": {
        "id": "VZ9esfhHpUqC",
        "colab_type": "code",
        "colab": {}
      },
      "source": [
        "one_hot(df.embarque, 'S')"
      ],
      "execution_count": null,
      "outputs": []
    },
    {
      "cell_type": "code",
      "metadata": {
        "id": "KCzr0NccpYe0",
        "colab_type": "code",
        "colab": {}
      },
      "source": [
        "one_hot(df.embarque, 'C')"
      ],
      "execution_count": null,
      "outputs": []
    },
    {
      "cell_type": "code",
      "metadata": {
        "id": "o1SUc1qApcCl",
        "colab_type": "code",
        "colab": {}
      },
      "source": [
        "one_hot(df.embarque, 'Q')"
      ],
      "execution_count": null,
      "outputs": []
    },
    {
      "cell_type": "code",
      "metadata": {
        "id": "XyHQo3mZpjb7",
        "colab_type": "code",
        "colab": {}
      },
      "source": [
        "df.classe = [one_hot(df.classe, _) for _ in df.classe]\n",
        "\n",
        "df.head(10)"
      ],
      "execution_count": null,
      "outputs": []
    },
    {
      "cell_type": "code",
      "metadata": {
        "id": "7kVN3Ff9ppvA",
        "colab_type": "code",
        "colab": {}
      },
      "source": [
        "df.sexo = [one_hot(df.sexo, _) for _ in df.sexo]\n",
        "\n",
        "df.head(10)"
      ],
      "execution_count": null,
      "outputs": []
    },
    {
      "cell_type": "code",
      "metadata": {
        "id": "jglcMZXdpv9w",
        "colab_type": "code",
        "colab": {}
      },
      "source": [
        "df.embarque = [one_hot(df.embarque, _) for _ in df.embarque]"
      ],
      "execution_count": null,
      "outputs": []
    },
    {
      "cell_type": "code",
      "metadata": {
        "id": "fn_LcZ6OpyjS",
        "colab_type": "code",
        "colab": {}
      },
      "source": [
        "df.head(10)"
      ],
      "execution_count": null,
      "outputs": []
    },
    {
      "cell_type": "code",
      "metadata": {
        "id": "BzrpcUwPqG6R",
        "colab_type": "code",
        "colab": {}
      },
      "source": [
        "df.sobreviveu.unique()"
      ],
      "execution_count": null,
      "outputs": []
    },
    {
      "cell_type": "code",
      "metadata": {
        "id": "lhzFGZZ-qKHA",
        "colab_type": "code",
        "colab": {}
      },
      "source": [
        "one_hot(df.sobreviveu, 0)"
      ],
      "execution_count": null,
      "outputs": []
    },
    {
      "cell_type": "code",
      "metadata": {
        "id": "f2K-C7IHqMHZ",
        "colab_type": "code",
        "colab": {}
      },
      "source": [
        "one_hot(df.sobreviveu, 1)"
      ],
      "execution_count": null,
      "outputs": []
    },
    {
      "cell_type": "code",
      "metadata": {
        "id": "WFJDc4_UqmL2",
        "colab_type": "code",
        "colab": {}
      },
      "source": [
        "df.sobreviveu = [one_hot(df.sobreviveu, _) for _ in\n",
        "df.sobreviveu]\n",
        "df.head(10)"
      ],
      "execution_count": null,
      "outputs": []
    },
    {
      "cell_type": "code",
      "metadata": {
        "id": "zCmGq3VLqz2C",
        "colab_type": "code",
        "colab": {}
      },
      "source": [
        "def normaliza_media(valores):\n",
        " media = np.mean(valores)\n",
        " minimo = np.min(valores)\n",
        " maximo = np.max(valores)\n",
        "\n",
        " return (valores - media)/(maximo-minimo), media, minimo, maximo\n",
        "\n",
        "df.idade, media, minimo, maximo = normaliza_media(df.idade)\n",
        "df.idade.head(10)"
      ],
      "execution_count": null,
      "outputs": []
    },
    {
      "cell_type": "code",
      "metadata": {
        "id": "6IIrO5AkrGd7",
        "colab_type": "code",
        "colab": {}
      },
      "source": [
        "df.parentes, media, minimo, maximo = normaliza_media(df.parentes)"
      ],
      "execution_count": null,
      "outputs": []
    },
    {
      "cell_type": "code",
      "metadata": {
        "id": "mxpUc16rrKkz",
        "colab_type": "code",
        "colab": {}
      },
      "source": [
        "df.parentes.head(10)"
      ],
      "execution_count": null,
      "outputs": []
    },
    {
      "cell_type": "code",
      "metadata": {
        "id": "J0aMBVs1rNg0",
        "colab_type": "code",
        "colab": {}
      },
      "source": [
        "df.dependentes,media, minimo, maximo = normaliza_media(df.dependentes)\n",
        "df.dependentes.head(10)"
      ],
      "execution_count": null,
      "outputs": []
    },
    {
      "cell_type": "code",
      "metadata": {
        "id": "IptyjYy8rSWQ",
        "colab_type": "code",
        "colab": {}
      },
      "source": [
        "df.tarifa, media, minimo, maximo = normaliza_media(df.tarifa)\n",
        "df.tarifa.head(10)"
      ],
      "execution_count": null,
      "outputs": []
    },
    {
      "cell_type": "code",
      "metadata": {
        "id": "31Do254RrXVM",
        "colab_type": "code",
        "colab": {}
      },
      "source": [
        "df.head(10)"
      ],
      "execution_count": null,
      "outputs": []
    },
    {
      "cell_type": "code",
      "metadata": {
        "id": "_FnEjZFTraQu",
        "colab_type": "code",
        "colab": {}
      },
      "source": [
        "labels = df.sobreviveu.values"
      ],
      "execution_count": null,
      "outputs": []
    },
    {
      "cell_type": "code",
      "metadata": {
        "id": "HWgaljmOrgOq",
        "colab_type": "code",
        "colab": {}
      },
      "source": [
        "df = df.drop(['sobreviveu'], axis=1)\n",
        "df.head(10)"
      ],
      "execution_count": null,
      "outputs": []
    },
    {
      "cell_type": "code",
      "metadata": {
        "id": "TgdmXbrkrrCx",
        "colab_type": "code",
        "colab": {}
      },
      "source": [
        "def vetorizar(classe, sexo, idade, parentes, dependentes, tarifa, embarque):\n",
        " return classe.tolist() +\\\n",
        " sexo.tolist() +\\\n",
        " [idade] +\\\n",
        " [parentes] +\\\n",
        " [dependentes] + \\\n",
        " [tarifa] +\\\n",
        " embarque.tolist()"
      ],
      "execution_count": null,
      "outputs": []
    },
    {
      "cell_type": "code",
      "metadata": {
        "id": "5bmtaoRSrtur",
        "colab_type": "code",
        "colab": {}
      },
      "source": [
        "entrada = [vetorizar(*_) for _ in df.values]\n",
        "\n",
        "entrada[:5]"
      ],
      "execution_count": null,
      "outputs": []
    },
    {
      "cell_type": "code",
      "metadata": {
        "id": "IiKpXPnXr4uQ",
        "colab_type": "code",
        "colab": {}
      },
      "source": [
        "np.savetxt(\"all/entrada_treino.csv\", entrada, delimiter=',')"
      ],
      "execution_count": null,
      "outputs": []
    },
    {
      "cell_type": "code",
      "metadata": {
        "id": "sodP0qAasCJQ",
        "colab_type": "code",
        "colab": {}
      },
      "source": [
        "np.savetxt(\"all/labels.csv\", labels.tolist(), delimiter=',')"
      ],
      "execution_count": null,
      "outputs": []
    },
    {
      "cell_type": "code",
      "metadata": {
        "id": "L3rg3cBmsO66",
        "colab_type": "code",
        "colab": {}
      },
      "source": [
        "import warnings\n",
        "warnings.filterwarnings('ignore')"
      ],
      "execution_count": null,
      "outputs": []
    },
    {
      "cell_type": "code",
      "metadata": {
        "id": "r8MH4MscsYPC",
        "colab_type": "code",
        "colab": {}
      },
      "source": [
        "import numpy as np\n",
        "import pandas as pd\n",
        "from sklearn.neighbors import KNeighborsClassifier\n",
        "from bokeh.plotting import figure, show, output_notebook\n",
        "\n",
        "x = np.loadtxt(\"all/entrada_treino.csv\", delimiter=',')\n",
        "y = np.loadtxt(\"all/labels.csv\", delimiter=',')\n",
        "\n",
        "model = KNeighborsClassifier(n_neighbors=5)"
      ],
      "execution_count": null,
      "outputs": []
    },
    {
      "cell_type": "code",
      "metadata": {
        "id": "08vvGDcb8ncE",
        "colab_type": "code",
        "colab": {}
      },
      "source": [
        "tamanho_treino = int(x.shape[0]*0.7)\n",
        "tamanho_treino"
      ],
      "execution_count": null,
      "outputs": []
    },
    {
      "cell_type": "code",
      "metadata": {
        "id": "Zq7Gvgn18svT",
        "colab_type": "code",
        "colab": {}
      },
      "source": [
        "x_t = x[:tamanho_treino]\n",
        "y_t = y[:tamanho_treino]"
      ],
      "execution_count": null,
      "outputs": []
    },
    {
      "cell_type": "code",
      "metadata": {
        "id": "AvofgK858xUL",
        "colab_type": "code",
        "colab": {}
      },
      "source": [
        "x_v = x[tamanho_treino:]\n",
        "y_v = y[tamanho_treino:]"
      ],
      "execution_count": null,
      "outputs": []
    },
    {
      "cell_type": "code",
      "metadata": {
        "id": "u5-3I08Z81C2",
        "colab_type": "code",
        "colab": {}
      },
      "source": [
        "model.fit(x_t, y_t)"
      ],
      "execution_count": null,
      "outputs": []
    },
    {
      "cell_type": "code",
      "metadata": {
        "id": "5xnjg6AB88OD",
        "colab_type": "code",
        "colab": {}
      },
      "source": [
        "KNeighborsClassifier(algorithm='auto', leaf_size=30,\n",
        "metric='minkowski',\n",
        " metric_params=None, n_jobs=1, n_neighbors=5, p=2,\n",
        " weights='uniform')"
      ],
      "execution_count": null,
      "outputs": []
    },
    {
      "cell_type": "code",
      "metadata": {
        "id": "X8v2M0Rr9IRa",
        "colab_type": "code",
        "colab": {}
      },
      "source": [
        "model.score(x_v, y_v)"
      ],
      "execution_count": null,
      "outputs": []
    },
    {
      "cell_type": "code",
      "metadata": {
        "id": "qU25pU1N9gHx",
        "colab_type": "code",
        "colab": {}
      },
      "source": [
        "def modela_e_valida(k, x_t, y_t, x_v, y_v):\n",
        " # Cria o modelo parametrizado por k\n",
        " model = KNeighborsClassifier(n_neighbors=k)\n",
        "\n",
        " # Ajusta o modelo baseado no número de vizinhos\n",
        " model.fit(x_t, y_t)\n",
        "\n",
        " return k, model.score(x_v, y_v)"
      ],
      "execution_count": null,
      "outputs": []
    },
    {
      "cell_type": "code",
      "metadata": {
        "id": "IhOOCIm49-Yk",
        "colab_type": "code",
        "colab": {}
      },
      "source": [
        "performance_por_k = np.array([modela_e_valida(k, x_t, y_t, x_v,\n",
        "y_v) for k in range(1, 100)])"
      ],
      "execution_count": null,
      "outputs": []
    },
    {
      "cell_type": "code",
      "metadata": {
        "id": "29oI_t4H-Hzh",
        "colab_type": "code",
        "colab": {}
      },
      "source": [
        "p = figure(title = \"Performance do modelo de vizinhos mais próximos\")"
      ],
      "execution_count": null,
      "outputs": []
    },
    {
      "cell_type": "code",
      "metadata": {
        "id": "ABaIutiT-ZQM",
        "colab_type": "code",
        "colab": {}
      },
      "source": [
        "p.xaxis.axis_label = 'Número de vizinhos'\n",
        "p.yaxis.axis_label = 'Performance'\n",
        "p.line(performance_por_k[:,0], performance_por_k[:,1])"
      ],
      "execution_count": null,
      "outputs": []
    },
    {
      "cell_type": "code",
      "metadata": {
        "id": "-hLFhVnn_Llb",
        "colab_type": "code",
        "colab": {}
      },
      "source": [
        "output_notebook()\n",
        "show(p)"
      ],
      "execution_count": null,
      "outputs": []
    },
    {
      "cell_type": "code",
      "metadata": {
        "id": "5fcrN07P_MQP",
        "colab_type": "code",
        "colab": {}
      },
      "source": [
        "p = figure(title = \"Tempo de execução do modelo de vizinhos mais próximos\")\n",
        "p.xaxis.axis_label = 'Número de vizinhos'\n",
        "p.yaxis.axis_label = 'Tempo de execução'\n",
        "p.line(performance_por_k[:,0], performance_por_k[:,2])\n",
        "output_notebook()\n",
        "show(p)"
      ],
      "execution_count": null,
      "outputs": []
    },
    {
      "cell_type": "code",
      "metadata": {
        "id": "NX0M8rXD_pga",
        "colab_type": "code",
        "colab": {}
      },
      "source": [
        " acertos  = modela_e_valida(60, x_t, y_t, x_v, y_v)\n",
        "acertos"
      ],
      "execution_count": null,
      "outputs": []
    },
    {
      "cell_type": "code",
      "metadata": {
        "id": "JPoEXd4b_yEK",
        "colab_type": "code",
        "colab": {}
      },
      "source": [
        " acertos = modela_e_valida(80, x_t, y_t, x_v, y_v)\n",
        "acertos"
      ],
      "execution_count": null,
      "outputs": []
    }
  ]
}