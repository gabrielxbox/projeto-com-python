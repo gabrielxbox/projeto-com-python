{
  "nbformat": 4,
  "nbformat_minor": 0,
  "metadata": {
    "colab": {
      "name": "écnica de vetorização .ipynb",
      "provenance": [],
      "collapsed_sections": [],
      "authorship_tag": "ABX9TyOMQloxCvWrPJvZbqQh6wZv",
      "include_colab_link": true
    },
    "kernelspec": {
      "name": "python3",
      "display_name": "Python 3"
    }
  },
  "cells": [
    {
      "cell_type": "markdown",
      "metadata": {
        "id": "view-in-github",
        "colab_type": "text"
      },
      "source": [
        "<a href=\"https://colab.research.google.com/github/gabrielxbox/projeto-com-python/blob/master/%C3%A9cnica_de_vetoriza%C3%A7%C3%A3o_.ipynb\" target=\"_parent\"><img src=\"https://colab.research.google.com/assets/colab-badge.svg\" alt=\"Open In Colab\"/></a>"
      ]
    },
    {
      "cell_type": "markdown",
      "metadata": {
        "id": "FSdSsTeY3Z-I",
        "colab_type": "text"
      },
      "source": [
        "Vamos usar a técnica de vetorização para transformar palavras e, a seguir, aplicar\n",
        "uma técnica de clusterização para agrupar os títulos. Como sempre, vamos começar\n",
        "carregando as bibliotecas necessárias."
      ]
    },
    {
      "cell_type": "code",
      "metadata": {
        "id": "1W4IFllrBA0O",
        "colab_type": "code",
        "colab": {}
      },
      "source": [
        "import pandas as pd\n",
        "import numpy as np\n",
        "from numpy.linalg import svd\n",
        "from nltk.stem import RSLPStemmer\n",
        "import multiprocessing as mp\n",
        "from bokeh.plotting import figure, show, output_notebook\n",
        "from bokeh.models import ColumnDataSource, Range1d, LabelSet,\n",
        "Label\n",
        "from bokeh import palettes\n",
        "from sklearn.cluster import KMeans"
      ],
      "execution_count": null,
      "outputs": []
    },
    {
      "cell_type": "code",
      "metadata": {
        "id": "AQD-5XMJBbj2",
        "colab_type": "code",
        "colab": {}
      },
      "source": [
        "output_notebook()"
      ],
      "execution_count": null,
      "outputs": []
    },
    {
      "cell_type": "code",
      "metadata": {
        "id": "GhyIOddsBcC1",
        "colab_type": "code",
        "colab": {}
      },
      "source": [
        "df1 = pd.read_csv(“titulos-buzzfeed-brasil-non_clickbait_titles.csv”)\n",
        "df1[‘grupo’] = ‘noticia’\n",
        "df1.head(10)"
      ],
      "execution_count": null,
      "outputs": []
    },
    {
      "cell_type": "code",
      "metadata": {
        "id": "PC2L5rIwB124",
        "colab_type": "code",
        "colab": {}
      },
      "source": [
        "df2 = pd.read_csv(“titulos-buzzfeed-brasil-clickbait_titles.\n",
        "csv”)\n",
        "df2[‘grupo’] = ‘caça-clique’\n",
        "df2.head(10)"
      ],
      "execution_count": null,
      "outputs": []
    },
    {
      "cell_type": "code",
      "metadata": {
        "id": "rzngFrSBB_Dy",
        "colab_type": "code",
        "colab": {}
      },
      "source": [
        "#Vamos juntar os dois conjuntos de dados.\n",
        "df = pd.concat([df1, df2])"
      ],
      "execution_count": null,
      "outputs": []
    },
    {
      "cell_type": "code",
      "metadata": {
        "id": "AiyOUoeWCCNO",
        "colab_type": "code",
        "colab": {}
      },
      "source": [
        "df.head(10)"
      ],
      "execution_count": null,
      "outputs": []
    },
    {
      "cell_type": "code",
      "metadata": {
        "id": "AHmw3XLiCJh4",
        "colab_type": "code",
        "colab": {}
      },
      "source": [
        "df.tail(10)"
      ],
      "execution_count": null,
      "outputs": []
    },
    {
      "cell_type": "code",
      "metadata": {
        "id": "bgKYV9TfCY7X",
        "colab_type": "code",
        "colab": {}
      },
      "source": [
        "df = df.sample(frac=1)\n",
        "df.head(10)"
      ],
      "execution_count": null,
      "outputs": []
    },
    {
      "cell_type": "markdown",
      "metadata": {
        "id": "qCmpfCmUClr8",
        "colab_type": "text"
      },
      "source": [
        "Uma lida rápida mostra que agora temos títulos de notícias misturados a caça-cliques.\n",
        "Porém, os índices estão misturados; vamos resetar o índice do conjunto de dados."
      ]
    },
    {
      "cell_type": "code",
      "metadata": {
        "id": "J7Ys0SEWCn3c",
        "colab_type": "code",
        "colab": {}
      },
      "source": [
        "df = df.reset_index(drop=True)\n",
        "df.head(10)"
      ],
      "execution_count": null,
      "outputs": []
    },
    {
      "cell_type": "markdown",
      "metadata": {
        "id": "iL58VFWHDN0R",
        "colab_type": "text"
      },
      "source": [
        "A única coluna útil é a coluna title, então vamos utilizar apenas ela, mas vamos manter\n",
        "a coluna grupo em mãos para avaliar o modelo."
      ]
    },
    {
      "cell_type": "code",
      "metadata": {
        "id": "exy9YoY-DOrt",
        "colab_type": "code",
        "colab": {}
      },
      "source": [
        "grupos = df[‘grupo’]\n",
        "df = df[“title”]\n",
        "df.head(10)"
      ],
      "execution_count": null,
      "outputs": []
    },
    {
      "cell_type": "code",
      "metadata": {
        "id": "B00jjJHGDXQJ",
        "colab_type": "code",
        "colab": {}
      },
      "source": [
        "grupos.head(10)"
      ],
      "execution_count": null,
      "outputs": []
    },
    {
      "cell_type": "code",
      "metadata": {
        "id": "Ot20CNK9DuQY",
        "colab_type": "code",
        "colab": {}
      },
      "source": [
        "def conta_palavras(texto, stopwords=stopwords, stemer=stemer):\n",
        " palavras = texto.split(“ “)\n",
        " palavras = [palavra.lower() for palavra in palavras if palavra not in stopwords and palavra.isalpha()]\n",
        " return {x:palavras.count(x) for x in palavras}"
      ],
      "execution_count": null,
      "outputs": []
    },
    {
      "cell_type": "markdown",
      "metadata": {
        "id": "eee_GYTaEPiT",
        "colab_type": "text"
      },
      "source": [
        "A seguir, contamos as palavras de cada documento e montamos as linhas da matriz\n",
        "termo-documento."
      ]
    },
    {
      "cell_type": "code",
      "metadata": {
        "id": "e9p7TESgER5_",
        "colab_type": "code",
        "colab": {}
      },
      "source": [
        "with mp.Pool() as p:\n",
        " contagem = p.map(conta_palavras, df.values)"
      ],
      "execution_count": null,
      "outputs": []
    },
    {
      "cell_type": "markdown",
      "metadata": {
        "id": "WfW24nVOEYny",
        "colab_type": "text"
      },
      "source": [
        "Vamos olhar a contagem de palavras nos 10 primeiros documentos"
      ]
    },
    {
      "cell_type": "code",
      "metadata": {
        "id": "ED9-A89PEbuI",
        "colab_type": "code",
        "colab": {}
      },
      "source": [
        "contagem[:5]"
      ],
      "execution_count": null,
      "outputs": []
    },
    {
      "cell_type": "markdown",
      "metadata": {
        "id": "lQTUMtHnEnSv",
        "colab_type": "text"
      },
      "source": [
        "Agora vamos criar a matriz termo-documento transposta usando um DataFrame do\n",
        "pandas."
      ]
    },
    {
      "cell_type": "code",
      "metadata": {
        "id": "jFaI9kT_EpM5",
        "colab_type": "code",
        "colab": {}
      },
      "source": [
        "termo_documento_transposto = pd.ataFrame(contagem)\n",
        "termo_documento_transposto.head(10)"
      ],
      "execution_count": null,
      "outputs": []
    },
    {
      "cell_type": "code",
      "metadata": {
        "id": "-xj9ZuXOEtoB",
        "colab_type": "code",
        "colab": {}
      },
      "source": [
        "termo_documento_transposto = termo_documento_transposto.fillna(0)\n",
        "termo_documento_transposto.head(10)"
      ],
      "execution_count": null,
      "outputs": []
    },
    {
      "cell_type": "code",
      "metadata": {
        "id": "8SugmL8XE03_",
        "colab_type": "code",
        "colab": {}
      },
      "source": [
        "p = figure(x_range=(0, 1), y_range=(0, 1))\n",
        "p.image(image=[termo_documento_transposto.values], x=0, y=0,\n",
        "dw=1, dh=1, palette=”Spectral11”)\n",
        "show(p)"
      ],
      "execution_count": null,
      "outputs": []
    },
    {
      "cell_type": "code",
      "metadata": {
        "id": "l09CLEM6E4c8",
        "colab_type": "code",
        "colab": {}
      },
      "source": [
        "termo_documento = termo_documento_transposto.T\n",
        "termo_documento.head(15)"
      ],
      "execution_count": null,
      "outputs": []
    },
    {
      "cell_type": "markdown",
      "metadata": {
        "id": "-nluUEn6E9Xz",
        "colab_type": "text"
      },
      "source": [
        "Vamos aplicar a decomposição em valores singulares na matriz termo-documento e\n",
        "encontrar a matriz de vetores de documentos."
      ]
    },
    {
      "cell_type": "code",
      "metadata": {
        "id": "XRQiHEqnFJhb",
        "colab_type": "code",
        "colab": {}
      },
      "source": [
        "U, W, Vt = svd(termo_documento.values, full_matrices=True)"
      ],
      "execution_count": null,
      "outputs": []
    },
    {
      "cell_type": "code",
      "metadata": {
        "id": "_RlXDlu8FYzk",
        "colab_type": "code",
        "colab": {}
      },
      "source": [
        "p = figure(x_range=(0, 1), y_range=(0, 1))\n",
        "p.image(image=[Vt], x=0, y=0, dw=1, dh=1, palette=”Spectral11”)\n",
        "show(p)"
      ],
      "execution_count": null,
      "outputs": []
    },
    {
      "cell_type": "markdown",
      "metadata": {
        "id": "ZnAeP_VeFoQS",
        "colab_type": "text"
      },
      "source": [
        "Dessa vez, em lugar de coletar amostras para fazer os gráficos e analisar os resultados,\n",
        "vamos clusterizar os documentos usando uma k-means. O algoritmo k-means já está\n",
        "implementado no scikit-learn e já importamos a classe necessária, vamos apenas\n",
        "instanciar o modelo e realizar o treinamento. Vamos começar pegando as palavras, que\n",
        "são as colunas do conjunto de dados termo_documento_transposto."
      ]
    },
    {
      "cell_type": "code",
      "metadata": {
        "id": "fed37o6WF1R6",
        "colab_type": "code",
        "colab": {}
      },
      "source": [
        "palavras = termo_documento_transposto.columns\n",
        "palavras[:20]"
      ],
      "execution_count": null,
      "outputs": []
    },
    {
      "cell_type": "code",
      "metadata": {
        "id": "qjN2KSUkF3j7",
        "colab_type": "code",
        "colab": {}
      },
      "source": [
        "modelo = KMeans(n_clusters=3)\n",
        "resultados = modelo.fit_predict(U)"
      ],
      "execution_count": null,
      "outputs": []
    },
    {
      "cell_type": "code",
      "metadata": {
        "id": "Po7YV4ORGHe1",
        "colab_type": "code",
        "colab": {}
      },
      "source": [
        "palavras_resultados = [{p: r} for p, r in zip(palavras, resultados)]"
      ],
      "execution_count": null,
      "outputs": []
    },
    {
      "cell_type": "code",
      "metadata": {
        "id": "wYW79bd4GM-k",
        "colab_type": "code",
        "colab": {}
      },
      "source": [
        "#Vamos escolher algumas palavras e comparar as classes avaliando a similaridade.\n",
        "print(resultado_para[‘filha’], resultado_para[‘mãe’])"
      ],
      "execution_count": null,
      "outputs": []
    },
    {
      "cell_type": "code",
      "metadata": {
        "id": "AqflSSsOGQTA",
        "colab_type": "code",
        "colab": {}
      },
      "source": [
        "print(resultado_para[‘afetado’], resultado_para[‘afetar’])"
      ],
      "execution_count": null,
      "outputs": []
    },
    {
      "cell_type": "code",
      "metadata": {
        "id": "1VDi1gp1GXu_",
        "colab_type": "code",
        "colab": {}
      },
      "source": [
        "print(resultado_para[‘abraçar’], resultado_para[‘abraçados’])\n"
      ],
      "execution_count": null,
      "outputs": []
    }
  ]
}